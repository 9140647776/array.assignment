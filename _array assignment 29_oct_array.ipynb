{
 "cells": [
  {
   "cell_type": "code",
   "execution_count": null,
   "id": "ba352079-e6d2-407e-b22d-aed0ac6e7c89",
   "metadata": {},
   "outputs": [],
   "source": [
    "## question (1)"
   ]
  },
  {
   "cell_type": "code",
   "execution_count": 1,
   "id": "17301c30-3d0c-46ea-bb49-4a4d7a23a409",
   "metadata": {},
   "outputs": [
    {
     "name": "stdout",
     "output_type": "stream",
     "text": [
      "yes\n"
     ]
    }
   ],
   "source": [
    "def checkduplicateswithink(arr, n, k):\n",
    "    myset = []\n",
    "    for i in range(n):\n",
    "        if arr[i] in myset:\n",
    "            return True\n",
    "        myset.append(arr[i])\n",
    "        if (i >= k):\n",
    "            myset.remove(arr[i - k])\n",
    "    return False\n",
    "if __name__ == \"__main__\":\n",
    "    arr = [1,2,4,2,5,9]\n",
    "    n = len(arr)\n",
    "    if (checkduplicateswithink(arr, n , 3)):\n",
    "        print(\"yes\")\n",
    "    else:\n",
    "        print(\"no\")\n",
    "    "
   ]
  },
  {
   "cell_type": "code",
   "execution_count": null,
   "id": "cf2f5719-17a6-4ea1-9a63-8ebca9ecfec0",
   "metadata": {},
   "outputs": [],
   "source": [
    "## question (2)"
   ]
  },
  {
   "cell_type": "code",
   "execution_count": 3,
   "id": "5e9f18a0-3e08-47e6-94ef-0dac5d6fe267",
   "metadata": {},
   "outputs": [
    {
     "name": "stdout",
     "output_type": "stream",
     "text": [
      "5 6 7 1 2 3 4 \n",
      "\n"
     ]
    }
   ],
   "source": [
    "def rightrotate(a, n, k):\n",
    "    k = k % n;\n",
    "    for i in range(0, n):\n",
    "        if(i < k):\n",
    "            print(a[n + i - k], end = \" \");\n",
    "        else:\n",
    "            print(a[i - k], end = \" \");\n",
    "    print(\"\\n\");\n",
    "array = [1,2,3,4,5,6,7];\n",
    "n = len(array);\n",
    "k = 3;\n",
    "rightrotate(array, n, k);"
   ]
  },
  {
   "cell_type": "code",
   "execution_count": null,
   "id": "c99ec4d2-0c17-45e7-9487-d47a63c3ff79",
   "metadata": {},
   "outputs": [],
   "source": [
    "## question (3)"
   ]
  },
  {
   "cell_type": "code",
   "execution_count": 5,
   "id": "0810c74d-36df-4b7b-83fa-d1735208f54f",
   "metadata": {},
   "outputs": [
    {
     "name": "stdout",
     "output_type": "stream",
     "text": [
      "[2, 4, 5, 7, 9, 12]\n",
      "reversed list is\n",
      "[12, 9, 7, 5, 4, 2]\n"
     ]
    }
   ],
   "source": [
    "def reverselist(a, start, end):\n",
    "    while start<end:\n",
    "        a[start], a[end] = a[end], a[start]\n",
    "        start += 1\n",
    "        end -= 1\n",
    "a = [2,4,5,7,9,12]\n",
    "print(a)\n",
    "reverselist(a, 0, 5)\n",
    "print(\"reversed list is\")\n",
    "print(a)\n",
    "        "
   ]
  },
  {
   "cell_type": "code",
   "execution_count": null,
   "id": "2ecffbad-2d59-4b09-9115-0b1c9ee6f9da",
   "metadata": {},
   "outputs": [],
   "source": [
    "##question (4)"
   ]
  },
  {
   "cell_type": "code",
   "execution_count": 8,
   "id": "f88ca534-4bde-4ff0-830e-5f0092eefc6d",
   "metadata": {},
   "outputs": [
    {
     "name": "stdout",
     "output_type": "stream",
     "text": [
      "the maximum element is 20\n"
     ]
    }
   ],
   "source": [
    "def findmaximum(arr, low, hight):\n",
    "    max = arr[low]\n",
    "    i = low\n",
    "    for i in range(hight+1):\n",
    "        if arr[i] >max:\n",
    "            max = arr[i]\n",
    "    return max\n",
    "arr = [10,5,20,8,15]\n",
    "n = len(arr)\n",
    "print(\"the maximum element is %d\"% findmaximum(arr, 0, n-1))\n",
    "    \n",
    "    "
   ]
  },
  {
   "cell_type": "code",
   "execution_count": null,
   "id": "c808f4d2-5bcd-4872-ac06-317aa0d12077",
   "metadata": {},
   "outputs": [],
   "source": [
    "##question (5)"
   ]
  },
  {
   "cell_type": "code",
   "execution_count": 9,
   "id": "27cf721b-f8d9-4d48-9020-bb8e4fbe5607",
   "metadata": {},
   "outputs": [
    {
     "name": "stdout",
     "output_type": "stream",
     "text": [
      "1 2 3 4 5 "
     ]
    }
   ],
   "source": [
    "def removeduplicates(arr, n):\n",
    "    if n == 0 or n == 1:\n",
    "        return n\n",
    "    temp = list(range(n))\n",
    "    j = 0\n",
    "    for i in range(0, n-1):\n",
    "        if arr[i] != arr[i+1]:\n",
    "            temp[j] = arr[i]\n",
    "            j += 1\n",
    "    temp[j] = arr[n-1]\n",
    "    j += 1\n",
    "    for i in range(0, j):\n",
    "        arr[i] = temp[i]\n",
    "    return j\n",
    "if __name__ == '__main__':\n",
    "    arr = [1,1,2,2,3,3,4,4,4,5,5]\n",
    "    n = len(arr)\n",
    "    n = removeduplicates(arr, n)\n",
    "    for i in range(n):\n",
    "        print(\"%d\" % (arr[i]), end=\" \")"
   ]
  }
 ],
 "metadata": {
  "kernelspec": {
   "display_name": "Python 3 (ipykernel)",
   "language": "python",
   "name": "python3"
  },
  "language_info": {
   "codemirror_mode": {
    "name": "ipython",
    "version": 3
   },
   "file_extension": ".py",
   "mimetype": "text/x-python",
   "name": "python",
   "nbconvert_exporter": "python",
   "pygments_lexer": "ipython3",
   "version": "3.10.8"
  }
 },
 "nbformat": 4,
 "nbformat_minor": 5
}
